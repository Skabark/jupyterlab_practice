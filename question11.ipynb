{
 "cells": [
  {
   "cell_type": "markdown",
   "id": "53e3769e-39ec-463f-aad5-a05fe1c13470",
   "metadata": {},
   "source": [
    "# Sarosh Khan\n",
    "Notebook for assignment 7"
   ]
  },
  {
   "cell_type": "code",
   "execution_count": 11,
   "id": "4c78451c-c519-4450-99dd-cc7b1912df09",
   "metadata": {},
   "outputs": [],
   "source": [
    "lst = lst = [2,4,6,8] "
   ]
  },
  {
   "cell_type": "code",
   "execution_count": 12,
   "id": "d3aa3404-69aa-4fd3-b2c1-1da7ddbacf6b",
   "metadata": {},
   "outputs": [
    {
     "data": {
      "text/plain": [
       "5.0"
      ]
     },
     "execution_count": 12,
     "metadata": {},
     "output_type": "execute_result"
    }
   ],
   "source": [
    "def Average(lst): return sum(lst) / len(lst) \n",
    " \n",
    "Average(lst) "
   ]
  },
  {
   "cell_type": "markdown",
   "id": "36a792e5-aafc-4fe4-9652-bd47a7e5ebdf",
   "metadata": {},
   "source": [
    "The cell above calculates the mean/average value of the given list.\n",
    "\n",
    "$$ mean = \\frac{{sum}({n})}{{len}({n})}$$\n",
    "\n",
    "$$ mean = {{sum} x {n}} \\div {{len} x {n}} $$"
   ]
  },
  {
   "cell_type": "markdown",
   "id": "14e00a94-d7d5-4e52-9e6d-621c0382bf10",
   "metadata": {},
   "source": [
    "![first 4 cells](images/q11.png)"
   ]
  },
  {
   "cell_type": "code",
   "execution_count": null,
   "id": "7819e886-1116-4c43-8c9d-bb6dbf22f5da",
   "metadata": {},
   "outputs": [],
   "source": []
  }
 ],
 "metadata": {
  "kernelspec": {
   "display_name": "Python [conda env:base] *",
   "language": "python",
   "name": "conda-base-py"
  },
  "language_info": {
   "codemirror_mode": {
    "name": "ipython",
    "version": 3
   },
   "file_extension": ".py",
   "mimetype": "text/x-python",
   "name": "python",
   "nbconvert_exporter": "python",
   "pygments_lexer": "ipython3",
   "version": "3.12.2"
  }
 },
 "nbformat": 4,
 "nbformat_minor": 5
}
